{
 "cells": [
  {
   "cell_type": "markdown",
   "metadata": {},
   "source": [
    "This notebook is in html. To be able to run it, please click: [![Open In Colab](https://colab.research.google.com/assets/colab-badge.svg)](https://colab.research.google.com/github/gunerilhan/gunerilhan.github.io/blob/master/img/uni.ipynb)"
   ]
  },
  {
   "cell_type": "code",
   "execution_count": 1,
   "metadata": {},
   "outputs": [],
   "source": [
    "import pandas as pd\n",
    "import numpy as np\n"
   ]
  },
  {
   "cell_type": "markdown",
   "metadata": {},
   "source": [
    "### Number of people self-isolating to positive tests\n",
    "\n",
    "The goal of this code is to convert the Covid-19 [numbers](https://www.kent.ac.uk/coronavirus/update-on-covid-19-cases) provided by the University to a metric that can be comparable with government data. There are numerous issues with the University's reporting including bunching of different campuses and reliability of the information. However, I want to focus on the issue of reporting the number of people self-isolating, instead of the number of people tested positive as in the government [data](https://coronavirus.data.gov.uk/). The University describes its data as follows:\n",
    "> Each week we publish the number of cases of students and staff who are **currently** self-isolating following a **positive test** for Covid-19 that have been **reported** to us.\n",
    "\n",
    "Let's try to convert the number of self-isolating (a stock variable) to number of positives in a week (a flow variable). To achieve this goal, I'll make a bunch of assumptions (hey, I'm a macroeconomist!).\n",
    "\n",
    "- Let $x_t$ be the number of positive cases at week $t$.\n",
    "\n",
    "- Let $m$ be the required days of isolation after a positive tests. Assume $7<m \\leq 14$.\n",
    "\n",
    "- Let $K_t$ be the number of people isolating at the beginning of week $t$.\n",
    "\n",
    "- Suppose $K_0=0$ at the beginning of the term.\n",
    "\n",
    "Then, $K_1 = x_0$, $K_2=x_0+x_1-\\frac{(14-m)}{7}x_0$, ... (Implicit assumption: equal number of people test positive each day in a week.\n",
    ")\n",
    "\n",
    "The law of motion of $K$ is\n",
    "\n",
    "$$K_{t+1}=K_t+x_t-\\frac{(14-m)}{7}x_{t-1}$$\n",
    "\n",
    "Here are the numbers reported by the University:\n",
    "\n",
    "\n",
    "|Date \t|Students living on-campus |\tStudents living off-campus |\tStaff |\n",
    "|:---   | :---: | :---: | :---: |\n",
    "|Monday 23 November |23 | 14 |3 | \n",
    "|Monday 16 November  |\t35 |\t22 |\t2|\n",
    "|Monday 9 November \t|31 |18 |0 |\n",
    "|Monday 2 November \t|16 \t|16 |\t3|\n",
    "|Monday 26 October \t|24 \t|5 |\t1|\n",
    "|Monday 19 October \t|19 \t|7 |\t0|\n",
    "|Monday 12 October \t|4 \t|2 \t|0|\n",
    "|Wednesday 7 October |\t2 |\t6 |\t1|\n",
    "\n",
    "Using these numbers, lets calculate avearge number of daily positive tests. \n",
    "\n",
    "First, we need to create some variables:"
   ]
  },
  {
   "cell_type": "code",
   "execution_count": 2,
   "metadata": {},
   "outputs": [],
   "source": [
    "dates = ['23/11/2020','16/11/2020','9/11/2020','2/11/2020','26/10/2020','19/10/2020','12/10/2020','7/10/2020']\n",
    "on_campus, off_campus, staff = [23,35,31,16,24,19,4,2],[14,22,18,16,5,7,2,6],[3,2,0,3,1,0,0,1]"
   ]
  },
  {
   "cell_type": "code",
   "execution_count": 3,
   "metadata": {},
   "outputs": [],
   "source": [
    "isolating = pd.DataFrame({'Students living on-campus':on_campus,\n",
    "             'Students living off-campus':off_campus,\n",
    "             'Staff':staff},index=pd.to_datetime(dates,format=\"%d/%m/%Y\"))\n",
    "isolating['Total'] = isolating.sum(axis=1)"
   ]
  },
  {
   "cell_type": "code",
   "execution_count": 4,
   "metadata": {},
   "outputs": [
    {
     "data": {
      "text/html": [
       "<div>\n",
       "<style scoped>\n",
       "    .dataframe tbody tr th:only-of-type {\n",
       "        vertical-align: middle;\n",
       "    }\n",
       "\n",
       "    .dataframe tbody tr th {\n",
       "        vertical-align: top;\n",
       "    }\n",
       "\n",
       "    .dataframe thead th {\n",
       "        text-align: right;\n",
       "    }\n",
       "</style>\n",
       "<table border=\"1\" class=\"dataframe\">\n",
       "  <thead>\n",
       "    <tr style=\"text-align: right;\">\n",
       "      <th></th>\n",
       "      <th>Students living on-campus</th>\n",
       "      <th>Students living off-campus</th>\n",
       "      <th>Staff</th>\n",
       "      <th>Total</th>\n",
       "    </tr>\n",
       "  </thead>\n",
       "  <tbody>\n",
       "    <tr>\n",
       "      <th>2020-11-23</th>\n",
       "      <td>23</td>\n",
       "      <td>14</td>\n",
       "      <td>3</td>\n",
       "      <td>40</td>\n",
       "    </tr>\n",
       "    <tr>\n",
       "      <th>2020-11-16</th>\n",
       "      <td>35</td>\n",
       "      <td>22</td>\n",
       "      <td>2</td>\n",
       "      <td>59</td>\n",
       "    </tr>\n",
       "    <tr>\n",
       "      <th>2020-11-09</th>\n",
       "      <td>31</td>\n",
       "      <td>18</td>\n",
       "      <td>0</td>\n",
       "      <td>49</td>\n",
       "    </tr>\n",
       "    <tr>\n",
       "      <th>2020-11-02</th>\n",
       "      <td>16</td>\n",
       "      <td>16</td>\n",
       "      <td>3</td>\n",
       "      <td>35</td>\n",
       "    </tr>\n",
       "    <tr>\n",
       "      <th>2020-10-26</th>\n",
       "      <td>24</td>\n",
       "      <td>5</td>\n",
       "      <td>1</td>\n",
       "      <td>30</td>\n",
       "    </tr>\n",
       "    <tr>\n",
       "      <th>2020-10-19</th>\n",
       "      <td>19</td>\n",
       "      <td>7</td>\n",
       "      <td>0</td>\n",
       "      <td>26</td>\n",
       "    </tr>\n",
       "    <tr>\n",
       "      <th>2020-10-12</th>\n",
       "      <td>4</td>\n",
       "      <td>2</td>\n",
       "      <td>0</td>\n",
       "      <td>6</td>\n",
       "    </tr>\n",
       "    <tr>\n",
       "      <th>2020-10-07</th>\n",
       "      <td>2</td>\n",
       "      <td>6</td>\n",
       "      <td>1</td>\n",
       "      <td>9</td>\n",
       "    </tr>\n",
       "  </tbody>\n",
       "</table>\n",
       "</div>"
      ],
      "text/plain": [
       "            Students living on-campus  Students living off-campus  Staff  \\\n",
       "2020-11-23                         23                          14      3   \n",
       "2020-11-16                         35                          22      2   \n",
       "2020-11-09                         31                          18      0   \n",
       "2020-11-02                         16                          16      3   \n",
       "2020-10-26                         24                           5      1   \n",
       "2020-10-19                         19                           7      0   \n",
       "2020-10-12                          4                           2      0   \n",
       "2020-10-07                          2                           6      1   \n",
       "\n",
       "            Total  \n",
       "2020-11-23     40  \n",
       "2020-11-16     59  \n",
       "2020-11-09     49  \n",
       "2020-11-02     35  \n",
       "2020-10-26     30  \n",
       "2020-10-19     26  \n",
       "2020-10-12      6  \n",
       "2020-10-07      9  "
      ]
     },
     "execution_count": 4,
     "metadata": {},
     "output_type": "execute_result"
    }
   ],
   "source": [
    "isolating"
   ]
  },
  {
   "cell_type": "code",
   "execution_count": 5,
   "metadata": {},
   "outputs": [],
   "source": [
    "# Now, assume people isolate 10 days after a positive test\n",
    "m = 10"
   ]
  },
  {
   "cell_type": "code",
   "execution_count": 6,
   "metadata": {
    "scrolled": true
   },
   "outputs": [],
   "source": [
    "# Now calculate the weekly case numbers using the above formula\n",
    "columns = isolating.columns\n",
    "cases   = pd.DataFrame(index=isolating.index[1:])    \n",
    "for col in columns:\n",
    "    K_t    = isolating[col].values[::-1]\n",
    "    n = len(K_t)\n",
    "    x_t    = np.zeros(n)\n",
    "    x_t[0] = K_t[0]\n",
    "    for i in range(1,n):\n",
    "        x_t[i]=K_t[i]-K_t[i-1]+(14-m)*x_t[i-1]/7\n",
    "    cases[col]=x_t[::-1][:-1]"
   ]
  },
  {
   "cell_type": "code",
   "execution_count": 7,
   "metadata": {},
   "outputs": [],
   "source": [
    "# Calculate total cases among students\n",
    "cases['Student']=cases[['Students living on-campus','Students living off-campus']].sum(axis=1)"
   ]
  },
  {
   "cell_type": "code",
   "execution_count": 8,
   "metadata": {},
   "outputs": [],
   "source": [
    "# The number of students and the number of staff\n",
    "student_number = 19303\n",
    "staff_number   = 6028"
   ]
  },
  {
   "cell_type": "code",
   "execution_count": 9,
   "metadata": {},
   "outputs": [],
   "source": [
    "cases['Student, rate'] = cases.Student/student_number*100000\n",
    "cases['Staff, rate'] = cases.Staff/student_number*100000"
   ]
  },
  {
   "cell_type": "code",
   "execution_count": 10,
   "metadata": {},
   "outputs": [
    {
     "data": {
      "text/html": [
       "<div>\n",
       "<style scoped>\n",
       "    .dataframe tbody tr th:only-of-type {\n",
       "        vertical-align: middle;\n",
       "    }\n",
       "\n",
       "    .dataframe tbody tr th {\n",
       "        vertical-align: top;\n",
       "    }\n",
       "\n",
       "    .dataframe thead th {\n",
       "        text-align: right;\n",
       "    }\n",
       "</style>\n",
       "<table border=\"1\" class=\"dataframe\">\n",
       "  <thead>\n",
       "    <tr style=\"text-align: right;\">\n",
       "      <th></th>\n",
       "      <th>Students living on-campus</th>\n",
       "      <th>Students living off-campus</th>\n",
       "      <th>Staff</th>\n",
       "      <th>Total</th>\n",
       "      <th>Student</th>\n",
       "      <th>Student, rate</th>\n",
       "      <th>Staff, rate</th>\n",
       "    </tr>\n",
       "  </thead>\n",
       "  <tbody>\n",
       "    <tr>\n",
       "      <th>2020-11-16</th>\n",
       "      <td>-4</td>\n",
       "      <td>-2</td>\n",
       "      <td>1</td>\n",
       "      <td>-6</td>\n",
       "      <td>-7</td>\n",
       "      <td>-39</td>\n",
       "      <td>8</td>\n",
       "    </tr>\n",
       "    <tr>\n",
       "      <th>2020-11-09</th>\n",
       "      <td>12</td>\n",
       "      <td>8</td>\n",
       "      <td>1</td>\n",
       "      <td>22</td>\n",
       "      <td>21</td>\n",
       "      <td>111</td>\n",
       "      <td>5</td>\n",
       "    </tr>\n",
       "    <tr>\n",
       "      <th>2020-11-02</th>\n",
       "      <td>15</td>\n",
       "      <td>8</td>\n",
       "      <td>-1</td>\n",
       "      <td>22</td>\n",
       "      <td>23</td>\n",
       "      <td>122</td>\n",
       "      <td>-8</td>\n",
       "    </tr>\n",
       "    <tr>\n",
       "      <th>2020-10-26</th>\n",
       "      <td>0</td>\n",
       "      <td>11</td>\n",
       "      <td>2</td>\n",
       "      <td>14</td>\n",
       "      <td>11</td>\n",
       "      <td>60</td>\n",
       "      <td>12</td>\n",
       "    </tr>\n",
       "    <tr>\n",
       "      <th>2020-10-19</th>\n",
       "      <td>14</td>\n",
       "      <td>0</td>\n",
       "      <td>0</td>\n",
       "      <td>16</td>\n",
       "      <td>15</td>\n",
       "      <td>79</td>\n",
       "      <td>4</td>\n",
       "    </tr>\n",
       "    <tr>\n",
       "      <th>2020-10-12</th>\n",
       "      <td>16</td>\n",
       "      <td>4</td>\n",
       "      <td>0</td>\n",
       "      <td>21</td>\n",
       "      <td>21</td>\n",
       "      <td>111</td>\n",
       "      <td>-1</td>\n",
       "    </tr>\n",
       "    <tr>\n",
       "      <th>2020-10-07</th>\n",
       "      <td>3</td>\n",
       "      <td>0</td>\n",
       "      <td>0</td>\n",
       "      <td>2</td>\n",
       "      <td>2</td>\n",
       "      <td>13</td>\n",
       "      <td>-2</td>\n",
       "    </tr>\n",
       "  </tbody>\n",
       "</table>\n",
       "</div>"
      ],
      "text/plain": [
       "            Students living on-campus  Students living off-campus  Staff  \\\n",
       "2020-11-16                         -4                          -2      1   \n",
       "2020-11-09                         12                           8      1   \n",
       "2020-11-02                         15                           8     -1   \n",
       "2020-10-26                          0                          11      2   \n",
       "2020-10-19                         14                           0      0   \n",
       "2020-10-12                         16                           4      0   \n",
       "2020-10-07                          3                           0      0   \n",
       "\n",
       "            Total  Student  Student, rate  Staff, rate  \n",
       "2020-11-16     -6       -7            -39            8  \n",
       "2020-11-09     22       21            111            5  \n",
       "2020-11-02     22       23            122           -8  \n",
       "2020-10-26     14       11             60           12  \n",
       "2020-10-19     16       15             79            4  \n",
       "2020-10-12     21       21            111           -1  \n",
       "2020-10-07      2        2             13           -2  "
      ]
     },
     "execution_count": 10,
     "metadata": {},
     "output_type": "execute_result"
    }
   ],
   "source": [
    "# Here are weekly case numbers \n",
    "cases.astype(int)"
   ]
  },
  {
   "cell_type": "markdown",
   "metadata": {},
   "source": [
    "Oopsss! There are negative number of cases! It does not make sense, right. Maybe, my simple model is wrong. What might solve the problem? If the University starts reporting the number of positive cases, a comparison of rates across the surrounding area would be much more easier."
   ]
  },
  {
   "cell_type": "markdown",
   "metadata": {},
   "source": [
    "For comparison, here is a graph of Canterbury [case](https://coronavirus.data.gov.uk/details/cases?areaType=ltla&areaName=Canterbury) rates\n",
    "\n",
    "![Image](https://gunerilhan.github.io/img/canterbury.png)\n",
    "    "
   ]
  },
  {
   "cell_type": "code",
   "execution_count": null,
   "metadata": {},
   "outputs": [],
   "source": []
  }
 ],
 "metadata": {
  "kernelspec": {
   "display_name": "Python 3",
   "language": "python",
   "name": "python3"
  },
  "language_info": {
   "codemirror_mode": {
    "name": "ipython",
    "version": 3
   },
   "file_extension": ".py",
   "mimetype": "text/x-python",
   "name": "python",
   "nbconvert_exporter": "python",
   "pygments_lexer": "ipython3",
   "version": "3.8.3"
  }
 },
 "nbformat": 4,
 "nbformat_minor": 4
}
